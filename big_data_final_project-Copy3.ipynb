{
 "cells": [
  {
   "cell_type": "code",
   "execution_count": 1,
   "metadata": {},
   "outputs": [],
   "source": [
    "import numpy as np\n",
    "import pandas as pd\n",
    "\n",
    "import matplotlib.pyplot as plt\n",
    "import seaborn as sns\n",
    "\n",
    "from statistics import mean, median\n",
    "\n",
    "from gensim.models import Word2Vec"
   ]
  },
  {
   "cell_type": "markdown",
   "metadata": {},
   "source": [
    "## Загружаем данные"
   ]
  },
  {
   "cell_type": "code",
   "execution_count": 2,
   "metadata": {},
   "outputs": [
    {
     "name": "stderr",
     "output_type": "stream",
     "text": [
      "/Users/nadejdaberzina/opt/anaconda3/lib/python3.7/site-packages/IPython/core/interactiveshell.py:3063: DtypeWarning: Columns (1) have mixed types.Specify dtype option on import or set low_memory=False.\n",
      "  interactivity=interactivity, compiler=compiler, result=result)\n"
     ]
    },
    {
     "data": {
      "text/html": [
       "<div>\n",
       "<style scoped>\n",
       "    .dataframe tbody tr th:only-of-type {\n",
       "        vertical-align: middle;\n",
       "    }\n",
       "\n",
       "    .dataframe tbody tr th {\n",
       "        vertical-align: top;\n",
       "    }\n",
       "\n",
       "    .dataframe thead th {\n",
       "        text-align: right;\n",
       "    }\n",
       "</style>\n",
       "<table border=\"1\" class=\"dataframe\">\n",
       "  <thead>\n",
       "    <tr style=\"text-align: right;\">\n",
       "      <th></th>\n",
       "      <th>sale_date_date</th>\n",
       "      <th>contact_id</th>\n",
       "      <th>shop_id</th>\n",
       "      <th>product_id</th>\n",
       "      <th>name</th>\n",
       "      <th>product_sub_category_id</th>\n",
       "      <th>product_category_id</th>\n",
       "      <th>brand_id</th>\n",
       "      <th>quantity</th>\n",
       "    </tr>\n",
       "  </thead>\n",
       "  <tbody>\n",
       "    <tr>\n",
       "      <th>0</th>\n",
       "      <td>2018-12-07</td>\n",
       "      <td>1260627</td>\n",
       "      <td>1455.0</td>\n",
       "      <td>168308.0</td>\n",
       "      <td>(197312) Пакет-майка 25см х 45см</td>\n",
       "      <td>906.0</td>\n",
       "      <td>205.0</td>\n",
       "      <td>-1.0</td>\n",
       "      <td>1,00</td>\n",
       "    </tr>\n",
       "    <tr>\n",
       "      <th>1</th>\n",
       "      <td>2018-12-07</td>\n",
       "      <td>198287</td>\n",
       "      <td>279.0</td>\n",
       "      <td>134832.0</td>\n",
       "      <td>(62448) Перекись водорода р-р наружн. 3% фл.по...</td>\n",
       "      <td>404.0</td>\n",
       "      <td>93.0</td>\n",
       "      <td>-1.0</td>\n",
       "      <td>1,00</td>\n",
       "    </tr>\n",
       "  </tbody>\n",
       "</table>\n",
       "</div>"
      ],
      "text/plain": [
       "  sale_date_date contact_id  shop_id  product_id  \\\n",
       "0     2018-12-07    1260627   1455.0    168308.0   \n",
       "1     2018-12-07     198287    279.0    134832.0   \n",
       "\n",
       "                                                name  product_sub_category_id  \\\n",
       "0                   (197312) Пакет-майка 25см х 45см                    906.0   \n",
       "1  (62448) Перекись водорода р-р наружн. 3% фл.по...                    404.0   \n",
       "\n",
       "   product_category_id  brand_id quantity  \n",
       "0                205.0      -1.0     1,00  \n",
       "1                 93.0      -1.0     1,00  "
      ]
     },
     "execution_count": 2,
     "metadata": {},
     "output_type": "execute_result"
    }
   ],
   "source": [
    "data = pd.read_csv('data.csv')\n",
    "data.head(2)"
   ]
  },
  {
   "cell_type": "code",
   "execution_count": 3,
   "metadata": {},
   "outputs": [],
   "source": [
    "data.rename(columns = {'sale_date_date' : 'sale_date'}, inplace = True)"
   ]
  },
  {
   "cell_type": "code",
   "execution_count": 4,
   "metadata": {},
   "outputs": [
    {
     "data": {
      "text/html": [
       "<div>\n",
       "<style scoped>\n",
       "    .dataframe tbody tr th:only-of-type {\n",
       "        vertical-align: middle;\n",
       "    }\n",
       "\n",
       "    .dataframe tbody tr th {\n",
       "        vertical-align: top;\n",
       "    }\n",
       "\n",
       "    .dataframe thead th {\n",
       "        text-align: right;\n",
       "    }\n",
       "</style>\n",
       "<table border=\"1\" class=\"dataframe\">\n",
       "  <thead>\n",
       "    <tr style=\"text-align: right;\">\n",
       "      <th></th>\n",
       "      <th>sale_date</th>\n",
       "      <th>contact_id</th>\n",
       "      <th>shop_id</th>\n",
       "      <th>product_id</th>\n",
       "      <th>name</th>\n",
       "      <th>product_sub_category_id</th>\n",
       "      <th>product_category_id</th>\n",
       "      <th>brand_id</th>\n",
       "      <th>quantity</th>\n",
       "    </tr>\n",
       "  </thead>\n",
       "  <tbody>\n",
       "    <tr>\n",
       "      <th>0</th>\n",
       "      <td>2018-12-07</td>\n",
       "      <td>1260627</td>\n",
       "      <td>1455.0</td>\n",
       "      <td>168308.0</td>\n",
       "      <td>(197312) Пакет-майка 25см х 45см</td>\n",
       "      <td>906.0</td>\n",
       "      <td>205.0</td>\n",
       "      <td>-1.0</td>\n",
       "      <td>1,00</td>\n",
       "    </tr>\n",
       "    <tr>\n",
       "      <th>1</th>\n",
       "      <td>2018-12-07</td>\n",
       "      <td>198287</td>\n",
       "      <td>279.0</td>\n",
       "      <td>134832.0</td>\n",
       "      <td>(62448) Перекись водорода р-р наружн. 3% фл.по...</td>\n",
       "      <td>404.0</td>\n",
       "      <td>93.0</td>\n",
       "      <td>-1.0</td>\n",
       "      <td>1,00</td>\n",
       "    </tr>\n",
       "  </tbody>\n",
       "</table>\n",
       "</div>"
      ],
      "text/plain": [
       "    sale_date contact_id  shop_id  product_id  \\\n",
       "0  2018-12-07    1260627   1455.0    168308.0   \n",
       "1  2018-12-07     198287    279.0    134832.0   \n",
       "\n",
       "                                                name  product_sub_category_id  \\\n",
       "0                   (197312) Пакет-майка 25см х 45см                    906.0   \n",
       "1  (62448) Перекись водорода р-р наружн. 3% фл.по...                    404.0   \n",
       "\n",
       "   product_category_id  brand_id quantity  \n",
       "0                205.0      -1.0     1,00  \n",
       "1                 93.0      -1.0     1,00  "
      ]
     },
     "execution_count": 4,
     "metadata": {},
     "output_type": "execute_result"
    }
   ],
   "source": [
    "data.head(2)"
   ]
  },
  {
   "cell_type": "markdown",
   "metadata": {},
   "source": [
    "## Пропущенные значения"
   ]
  },
  {
   "cell_type": "code",
   "execution_count": 5,
   "metadata": {},
   "outputs": [
    {
     "data": {
      "text/plain": [
       "20000000    9\n",
       "20000002    9\n",
       "20000001    7\n",
       "30917       1\n",
       "115502      1\n",
       "235808      1\n",
       "402708      1\n",
       "402709      1\n",
       "402711      1\n",
       "550875      1\n",
       "dtype: int64"
      ]
     },
     "execution_count": 5,
     "metadata": {},
     "output_type": "execute_result"
    }
   ],
   "source": [
    "# найдем строки, в которых много пропущенных значений\n",
    "# это строки с индексами 20000000, 20000002, 20000001\n",
    "data.isnull().sum(axis=1).nlargest(10)"
   ]
  },
  {
   "cell_type": "code",
   "execution_count": 6,
   "metadata": {},
   "outputs": [
    {
     "data": {
      "text/plain": [
       "sale_date                  NaN\n",
       "contact_id                 NaN\n",
       "shop_id                    NaN\n",
       "product_id                 NaN\n",
       "name                       NaN\n",
       "product_sub_category_id    NaN\n",
       "product_category_id        NaN\n",
       "brand_id                   NaN\n",
       "quantity                   NaN\n",
       "Name: 20000000, dtype: object"
      ]
     },
     "execution_count": 6,
     "metadata": {},
     "output_type": "execute_result"
    }
   ],
   "source": [
    "data.loc[20000000]"
   ]
  },
  {
   "cell_type": "code",
   "execution_count": 7,
   "metadata": {},
   "outputs": [
    {
     "data": {
      "text/plain": [
       "sale_date                  NaN\n",
       "contact_id                 NaN\n",
       "shop_id                    NaN\n",
       "product_id                 NaN\n",
       "name                       NaN\n",
       "product_sub_category_id    NaN\n",
       "product_category_id        NaN\n",
       "brand_id                   NaN\n",
       "quantity                   NaN\n",
       "Name: 20000002, dtype: object"
      ]
     },
     "execution_count": 7,
     "metadata": {},
     "output_type": "execute_result"
    }
   ],
   "source": [
    "data.loc[20000002]"
   ]
  },
  {
   "cell_type": "code",
   "execution_count": 8,
   "metadata": {},
   "outputs": [
    {
     "data": {
      "text/plain": [
       "sale_date                  (затронуто стр\n",
       "contact_id                    к: 20000000\n",
       "shop_id                               NaN\n",
       "product_id                            NaN\n",
       "name                                  NaN\n",
       "product_sub_category_id               NaN\n",
       "product_category_id                   NaN\n",
       "brand_id                              NaN\n",
       "quantity                              NaN\n",
       "Name: 20000001, dtype: object"
      ]
     },
     "execution_count": 8,
     "metadata": {},
     "output_type": "execute_result"
    }
   ],
   "source": [
    "data.loc[20000001]"
   ]
  },
  {
   "cell_type": "code",
   "execution_count": 9,
   "metadata": {},
   "outputs": [],
   "source": [
    "# удалим эти 3 строки\n",
    "data = data.drop(labels = [20000000, 20000002, 20000001], axis = 0)"
   ]
  },
  {
   "cell_type": "code",
   "execution_count": 10,
   "metadata": {},
   "outputs": [
    {
     "data": {
      "text/plain": [
       "sale_date                      0\n",
       "contact_id                     0\n",
       "shop_id                        0\n",
       "product_id                     0\n",
       "name                       10738\n",
       "product_sub_category_id        0\n",
       "product_category_id            0\n",
       "brand_id                       0\n",
       "quantity                       0\n",
       "dtype: int64"
      ]
     },
     "execution_count": 10,
     "metadata": {},
     "output_type": "execute_result"
    }
   ],
   "source": [
    "# посмотрим на количество пропущенных значений по столбцам\n",
    "# теперь пропущенные значения есть только в столбце name\n",
    "data.isnull().sum()"
   ]
  },
  {
   "cell_type": "markdown",
   "metadata": {},
   "source": [
    "## Типы данных"
   ]
  },
  {
   "cell_type": "code",
   "execution_count": 11,
   "metadata": {},
   "outputs": [
    {
     "data": {
      "text/plain": [
       "sale_date                   object\n",
       "contact_id                  object\n",
       "shop_id                    float64\n",
       "product_id                 float64\n",
       "name                        object\n",
       "product_sub_category_id    float64\n",
       "product_category_id        float64\n",
       "brand_id                   float64\n",
       "quantity                    object\n",
       "dtype: object"
      ]
     },
     "execution_count": 11,
     "metadata": {},
     "output_type": "execute_result"
    }
   ],
   "source": [
    "data.dtypes"
   ]
  },
  {
   "cell_type": "code",
   "execution_count": 12,
   "metadata": {},
   "outputs": [],
   "source": [
    "# столбец sale_date - изменим тип данных на datetime\n",
    "data['sale_date'] = pd.to_datetime(data.sale_date)"
   ]
  },
  {
   "cell_type": "code",
   "execution_count": 13,
   "metadata": {},
   "outputs": [
    {
     "data": {
      "text/plain": [
       "array([1260627, 198287, 2418385, ..., '1570654', '1924036', '1788779'],\n",
       "      dtype=object)"
      ]
     },
     "execution_count": 13,
     "metadata": {},
     "output_type": "execute_result"
    }
   ],
   "source": [
    "# в столбце contact_id смешанный тип данных (str и int)\n",
    "data.contact_id.unique()"
   ]
  },
  {
   "cell_type": "code",
   "execution_count": 14,
   "metadata": {},
   "outputs": [
    {
     "data": {
      "text/plain": [
       "array(['1,00', '2,00', '0,12', ..., '5,05', '0,776', '0,562'],\n",
       "      dtype=object)"
      ]
     },
     "execution_count": 14,
     "metadata": {},
     "output_type": "execute_result"
    }
   ],
   "source": [
    "# в столбце quantity тип данных str, есть ошибки - дробные числа, хотя количество должно быть целым числом.\n",
    "# оставим пока что в формате object\n",
    "data.quantity.unique()"
   ]
  },
  {
   "cell_type": "code",
   "execution_count": 15,
   "metadata": {},
   "outputs": [],
   "source": [
    "# в столбцах contact_id, shop_id, product_id, product_sub_category_id, product_category_id, brand_id\n",
    "# изменим тип данных на int\n",
    "data = data.astype({'contact_id' : 'int',\n",
    "                    'shop_id' : 'int',\n",
    "                    'product_id' : 'int',\n",
    "                    'product_sub_category_id' : 'int',\n",
    "                    'product_category_id' : 'int',\n",
    "                    'brand_id' : 'int'})"
   ]
  },
  {
   "cell_type": "code",
   "execution_count": 16,
   "metadata": {},
   "outputs": [
    {
     "data": {
      "text/plain": [
       "sale_date                  datetime64[ns]\n",
       "contact_id                          int64\n",
       "shop_id                             int64\n",
       "product_id                          int64\n",
       "name                               object\n",
       "product_sub_category_id             int64\n",
       "product_category_id                 int64\n",
       "brand_id                            int64\n",
       "quantity                           object\n",
       "dtype: object"
      ]
     },
     "execution_count": 16,
     "metadata": {},
     "output_type": "execute_result"
    }
   ],
   "source": [
    "# типы данных после преобразований\n",
    "data.dtypes"
   ]
  },
  {
   "cell_type": "markdown",
   "metadata": {},
   "source": [
    "## Анализ данных"
   ]
  },
  {
   "cell_type": "code",
   "execution_count": 17,
   "metadata": {},
   "outputs": [
    {
     "data": {
      "text/plain": [
       "(20000000, 9)"
      ]
     },
     "execution_count": 17,
     "metadata": {},
     "output_type": "execute_result"
    }
   ],
   "source": [
    "data.shape"
   ]
  },
  {
   "cell_type": "code",
   "execution_count": 18,
   "metadata": {},
   "outputs": [
    {
     "name": "stdout",
     "output_type": "stream",
     "text": [
      "# покупатели:  1642379\n",
      "# аптеки:  851\n",
      "# товары:  36549\n",
      "# категории:  112\n",
      "# подкатегории:  440\n",
      "# транзакции:  6082729\n"
     ]
    }
   ],
   "source": [
    "clients, shops, products, categories, subcategories = data.contact_id.nunique(), data.shop_id.nunique(), data.product_id.nunique(), data.product_category_id.nunique(), data.product_sub_category_id.nunique()\n",
    "\n",
    "transactions = data.groupby(['contact_id'])['sale_date'].nunique().sum()\n",
    "\n",
    "print('# покупатели: ', clients)\n",
    "print('# аптеки: ', shops)\n",
    "print('# товары: ', products)\n",
    "print('# категории: ', categories)\n",
    "print('# подкатегории: ', subcategories)\n",
    "print('# транзакции: ', transactions)"
   ]
  },
  {
   "cell_type": "markdown",
   "metadata": {},
   "source": [
    "### Временной период"
   ]
  },
  {
   "cell_type": "code",
   "execution_count": 19,
   "metadata": {},
   "outputs": [],
   "source": [
    "# посмотрим, за какой период времени у нас есть данные по продажам "
   ]
  },
  {
   "cell_type": "code",
   "execution_count": 20,
   "metadata": {},
   "outputs": [
    {
     "data": {
      "text/plain": [
       "array(['2018-12-07T00:00:00.000000000', '2018-12-08T00:00:00.000000000',\n",
       "       '2018-12-09T00:00:00.000000000', '2018-12-05T00:00:00.000000000',\n",
       "       '2018-12-06T00:00:00.000000000', '2018-12-04T00:00:00.000000000',\n",
       "       '2018-12-03T00:00:00.000000000', '2018-12-01T00:00:00.000000000',\n",
       "       '2018-12-02T00:00:00.000000000', '2018-11-29T00:00:00.000000000',\n",
       "       '2018-11-30T00:00:00.000000000', '2018-11-28T00:00:00.000000000',\n",
       "       '2018-11-26T00:00:00.000000000', '2018-11-27T00:00:00.000000000',\n",
       "       '2018-11-23T00:00:00.000000000', '2018-11-24T00:00:00.000000000',\n",
       "       '2018-11-25T00:00:00.000000000', '2018-11-21T00:00:00.000000000',\n",
       "       '2018-11-22T00:00:00.000000000', '2018-11-20T00:00:00.000000000',\n",
       "       '2018-11-17T00:00:00.000000000', '2018-11-18T00:00:00.000000000',\n",
       "       '2018-11-19T00:00:00.000000000', '2018-11-16T00:00:00.000000000',\n",
       "       '2018-11-13T00:00:00.000000000', '2018-11-14T00:00:00.000000000',\n",
       "       '2018-11-15T00:00:00.000000000', '2018-11-12T00:00:00.000000000',\n",
       "       '2018-11-10T00:00:00.000000000', '2018-11-11T00:00:00.000000000',\n",
       "       '2018-11-09T00:00:00.000000000', '2018-11-08T00:00:00.000000000',\n",
       "       '2018-01-11T00:00:00.000000000', '2018-01-12T00:00:00.000000000',\n",
       "       '2018-01-08T00:00:00.000000000', '2018-01-13T00:00:00.000000000',\n",
       "       '2018-01-09T00:00:00.000000000', '2018-01-10T00:00:00.000000000',\n",
       "       '2018-01-19T00:00:00.000000000', '2018-01-14T00:00:00.000000000',\n",
       "       '2018-01-15T00:00:00.000000000', '2018-01-16T00:00:00.000000000',\n",
       "       '2018-01-17T00:00:00.000000000', '2018-01-18T00:00:00.000000000',\n",
       "       '2018-01-06T00:00:00.000000000', '2018-01-03T00:00:00.000000000',\n",
       "       '2018-01-02T00:00:00.000000000', '2018-01-07T00:00:00.000000000',\n",
       "       '2018-01-01T00:00:00.000000000', '2018-01-04T00:00:00.000000000',\n",
       "       '2018-01-05T00:00:00.000000000', '2018-01-26T00:00:00.000000000',\n",
       "       '2018-01-27T00:00:00.000000000', '2018-01-28T00:00:00.000000000',\n",
       "       '2018-01-29T00:00:00.000000000', '2018-01-30T00:00:00.000000000',\n",
       "       '2018-01-25T00:00:00.000000000', '2018-01-31T00:00:00.000000000',\n",
       "       '2018-02-13T00:00:00.000000000', '2018-02-12T00:00:00.000000000',\n",
       "       '2018-02-15T00:00:00.000000000', '2018-02-16T00:00:00.000000000',\n",
       "       '2018-02-11T00:00:00.000000000', '2018-02-14T00:00:00.000000000',\n",
       "       '2018-01-21T00:00:00.000000000', '2018-01-20T00:00:00.000000000',\n",
       "       '2018-01-22T00:00:00.000000000', '2018-01-24T00:00:00.000000000',\n",
       "       '2018-01-23T00:00:00.000000000', '2018-02-08T00:00:00.000000000',\n",
       "       '2018-02-06T00:00:00.000000000', '2018-02-07T00:00:00.000000000',\n",
       "       '2018-02-09T00:00:00.000000000', '2018-02-10T00:00:00.000000000',\n",
       "       '2018-02-05T00:00:00.000000000', '2018-02-01T00:00:00.000000000',\n",
       "       '2018-02-02T00:00:00.000000000', '2018-02-03T00:00:00.000000000',\n",
       "       '2018-02-04T00:00:00.000000000', '2018-02-17T00:00:00.000000000',\n",
       "       '2018-02-18T00:00:00.000000000', '2018-02-19T00:00:00.000000000',\n",
       "       '2018-02-20T00:00:00.000000000', '2018-02-21T00:00:00.000000000',\n",
       "       '2018-03-01T00:00:00.000000000', '2018-02-28T00:00:00.000000000',\n",
       "       '2018-03-02T00:00:00.000000000', '2018-02-27T00:00:00.000000000',\n",
       "       '2018-02-22T00:00:00.000000000', '2018-02-23T00:00:00.000000000',\n",
       "       '2018-02-24T00:00:00.000000000', '2018-02-25T00:00:00.000000000',\n",
       "       '2018-02-26T00:00:00.000000000', '2018-03-03T00:00:00.000000000',\n",
       "       '2018-03-04T00:00:00.000000000', '2018-03-05T00:00:00.000000000',\n",
       "       '2018-03-06T00:00:00.000000000', '2018-03-07T00:00:00.000000000',\n",
       "       '2018-03-08T00:00:00.000000000', '2018-03-09T00:00:00.000000000',\n",
       "       '2018-03-25T00:00:00.000000000', '2018-03-26T00:00:00.000000000',\n",
       "       '2018-03-10T00:00:00.000000000', '2018-03-11T00:00:00.000000000',\n",
       "       '2018-03-12T00:00:00.000000000', '2018-03-14T00:00:00.000000000',\n",
       "       '2018-03-15T00:00:00.000000000', '2018-03-16T00:00:00.000000000',\n",
       "       '2018-04-04T00:00:00.000000000', '2018-04-05T00:00:00.000000000',\n",
       "       '2018-04-06T00:00:00.000000000', '2018-04-07T00:00:00.000000000',\n",
       "       '2018-03-20T00:00:00.000000000', '2018-03-21T00:00:00.000000000',\n",
       "       '2018-03-22T00:00:00.000000000', '2018-03-19T00:00:00.000000000',\n",
       "       '2018-03-13T00:00:00.000000000', '2018-03-31T00:00:00.000000000',\n",
       "       '2018-04-01T00:00:00.000000000', '2018-04-02T00:00:00.000000000',\n",
       "       '2018-04-03T00:00:00.000000000', '2018-03-28T00:00:00.000000000',\n",
       "       '2018-03-29T00:00:00.000000000', '2018-03-27T00:00:00.000000000',\n",
       "       '2018-03-30T00:00:00.000000000', '2018-04-09T00:00:00.000000000',\n",
       "       '2018-04-10T00:00:00.000000000', '2018-04-11T00:00:00.000000000',\n",
       "       '2018-04-12T00:00:00.000000000', '2018-03-17T00:00:00.000000000',\n",
       "       '2018-03-18T00:00:00.000000000', '2018-04-15T00:00:00.000000000',\n",
       "       '2018-04-16T00:00:00.000000000', '2018-04-14T00:00:00.000000000',\n",
       "       '2018-04-17T00:00:00.000000000', '2018-03-23T00:00:00.000000000',\n",
       "       '2018-03-24T00:00:00.000000000', '2018-04-20T00:00:00.000000000',\n",
       "       '2018-04-21T00:00:00.000000000', '2018-04-22T00:00:00.000000000',\n",
       "       '2018-04-19T00:00:00.000000000', '2018-04-27T00:00:00.000000000',\n",
       "       '2018-04-28T00:00:00.000000000', '2018-04-29T00:00:00.000000000',\n",
       "       '2018-04-30T00:00:00.000000000', '2018-05-01T00:00:00.000000000',\n",
       "       '2018-04-24T00:00:00.000000000', '2018-04-23T00:00:00.000000000',\n",
       "       '2018-04-26T00:00:00.000000000', '2018-04-08T00:00:00.000000000',\n",
       "       '2018-04-13T00:00:00.000000000', '2018-05-02T00:00:00.000000000',\n",
       "       '2018-05-05T00:00:00.000000000', '2018-05-04T00:00:00.000000000',\n",
       "       '2018-05-03T00:00:00.000000000', '2018-04-25T00:00:00.000000000',\n",
       "       '2018-05-09T00:00:00.000000000', '2018-05-08T00:00:00.000000000',\n",
       "       '2018-05-07T00:00:00.000000000', '2018-05-10T00:00:00.000000000',\n",
       "       '2018-05-17T00:00:00.000000000', '2018-05-18T00:00:00.000000000',\n",
       "       '2018-05-19T00:00:00.000000000', '2018-05-20T00:00:00.000000000',\n",
       "       '2018-04-18T00:00:00.000000000', '2018-05-12T00:00:00.000000000',\n",
       "       '2018-05-15T00:00:00.000000000', '2018-05-14T00:00:00.000000000',\n",
       "       '2018-05-13T00:00:00.000000000', '2018-05-24T00:00:00.000000000',\n",
       "       '2018-05-25T00:00:00.000000000', '2018-05-26T00:00:00.000000000',\n",
       "       '2018-05-27T00:00:00.000000000', '2018-05-28T00:00:00.000000000',\n",
       "       '2018-05-11T00:00:00.000000000', '2018-05-29T00:00:00.000000000',\n",
       "       '2018-05-30T00:00:00.000000000', '2018-05-31T00:00:00.000000000',\n",
       "       '2018-06-01T00:00:00.000000000', '2018-06-02T00:00:00.000000000',\n",
       "       '2018-05-23T00:00:00.000000000', '2018-05-22T00:00:00.000000000',\n",
       "       '2018-05-16T00:00:00.000000000', '2018-06-05T00:00:00.000000000',\n",
       "       '2018-06-04T00:00:00.000000000', '2018-06-06T00:00:00.000000000',\n",
       "       '2018-05-21T00:00:00.000000000', '2018-05-06T00:00:00.000000000',\n",
       "       '2018-06-10T00:00:00.000000000', '2018-06-09T00:00:00.000000000',\n",
       "       '2018-06-11T00:00:00.000000000', '2018-06-12T00:00:00.000000000',\n",
       "       '2018-06-07T00:00:00.000000000', '2018-06-08T00:00:00.000000000',\n",
       "       '2018-06-18T00:00:00.000000000', '2018-06-15T00:00:00.000000000',\n",
       "       '2018-06-16T00:00:00.000000000', '2018-06-17T00:00:00.000000000',\n",
       "       '2018-06-19T00:00:00.000000000', '2018-06-25T00:00:00.000000000',\n",
       "       '2018-06-23T00:00:00.000000000', '2018-06-24T00:00:00.000000000',\n",
       "       '2018-06-22T00:00:00.000000000', '2018-06-26T00:00:00.000000000',\n",
       "       '2018-06-14T00:00:00.000000000', '2018-07-02T00:00:00.000000000',\n",
       "       '2018-07-03T00:00:00.000000000', '2018-06-20T00:00:00.000000000',\n",
       "       '2018-06-03T00:00:00.000000000', '2018-06-28T00:00:00.000000000',\n",
       "       '2018-06-29T00:00:00.000000000', '2018-06-30T00:00:00.000000000',\n",
       "       '2018-06-27T00:00:00.000000000', '2018-06-13T00:00:00.000000000'],\n",
       "      dtype='datetime64[ns]')"
      ]
     },
     "execution_count": 20,
     "metadata": {},
     "output_type": "execute_result"
    }
   ],
   "source": [
    "# 01/01/2018 - 03/07/2018\n",
    "# 09/11/2018 - 09/12/2018\n",
    "\n",
    "data.sale_date.unique()"
   ]
  },
  {
   "cell_type": "code",
   "execution_count": 21,
   "metadata": {},
   "outputs": [
    {
     "data": {
      "text/plain": [
       "214"
      ]
     },
     "execution_count": 21,
     "metadata": {},
     "output_type": "execute_result"
    }
   ],
   "source": [
    "# у нас есть данные за 214 дней 2018-ого года\n",
    "\n",
    "data.sale_date.nunique()"
   ]
  },
  {
   "cell_type": "markdown",
   "metadata": {},
   "source": [
    "### Среднее количество транзакций в день"
   ]
  },
  {
   "cell_type": "code",
   "execution_count": 22,
   "metadata": {},
   "outputs": [
    {
     "data": {
      "text/plain": [
       "28423.967289719625"
      ]
     },
     "execution_count": 22,
     "metadata": {},
     "output_type": "execute_result"
    }
   ],
   "source": [
    "transactions / 214"
   ]
  },
  {
   "cell_type": "markdown",
   "metadata": {},
   "source": [
    "### Продажи по месяцам"
   ]
  },
  {
   "cell_type": "code",
   "execution_count": 23,
   "metadata": {},
   "outputs": [],
   "source": [
    "# добавим новый столбец - месяц\n",
    "data['month'] = data['sale_date'].dt.month"
   ]
  },
  {
   "cell_type": "code",
   "execution_count": 24,
   "metadata": {},
   "outputs": [
    {
     "data": {
      "image/png": "[encoded data removed]",
      "text/plain": [
       "<Figure size 720x360 with 1 Axes>"
      ]
     },
     "metadata": {
      "needs_background": "light"
     },
     "output_type": "display_data"
    }
   ],
   "source": [
    "# построим график - продажи по месяцам\n",
    "x = data['month']\n",
    "num_bins = 12\n",
    "plt.figure(figsize=(10, 5))\n",
    "plt.hist(x, num_bins)\n",
    "plt.show()\n",
    "\n",
    "# у нас есть данные по продажам с января по начало июля, а потом за ноябрь/декабрь (часть декабря)"
   ]
  },
  {
   "cell_type": "markdown",
   "metadata": {},
   "source": [
    "### Самые популярные товары"
   ]
  },
  {
   "cell_type": "code",
   "execution_count": 25,
   "metadata": {},
   "outputs": [],
   "source": [
    "top_products = data.groupby(['name']).size().reset_index(name='number').sort_values(by=['number'], ascending=False)"
   ]
  },
  {
   "cell_type": "code",
   "execution_count": 26,
   "metadata": {},
   "outputs": [
    {
     "data": {
      "text/html": [
       "<div>\n",
       "<style scoped>\n",
       "    .dataframe tbody tr th:only-of-type {\n",
       "        vertical-align: middle;\n",
       "    }\n",
       "\n",
       "    .dataframe tbody tr th {\n",
       "        vertical-align: top;\n",
       "    }\n",
       "\n",
       "    .dataframe thead th {\n",
       "        text-align: right;\n",
       "    }\n",
       "</style>\n",
       "<table border=\"1\" class=\"dataframe\">\n",
       "  <thead>\n",
       "    <tr style=\"text-align: right;\">\n",
       "      <th></th>\n",
       "      <th>name</th>\n",
       "      <th>number</th>\n",
       "    </tr>\n",
       "  </thead>\n",
       "  <tbody>\n",
       "    <tr>\n",
       "      <th>26684</th>\n",
       "      <td>(48791) Свободная сумма НДС18% (служебный)</td>\n",
       "      <td>169191</td>\n",
       "    </tr>\n",
       "    <tr>\n",
       "      <th>18206</th>\n",
       "      <td>(197312) Пакет-майка 25см х 45см</td>\n",
       "      <td>118106</td>\n",
       "    </tr>\n",
       "    <tr>\n",
       "      <th>13866</th>\n",
       "      <td>(181542) Карта Забота о Здоровье</td>\n",
       "      <td>89851</td>\n",
       "    </tr>\n",
       "    <tr>\n",
       "      <th>27955</th>\n",
       "      <td>(57733) Корвалол капли д/приема внутрь 25мл</td>\n",
       "      <td>87792</td>\n",
       "    </tr>\n",
       "    <tr>\n",
       "      <th>8107</th>\n",
       "      <td>(117825) Панангин таб.п.п.о.№50</td>\n",
       "      <td>77153</td>\n",
       "    </tr>\n",
       "    <tr>\n",
       "      <th>33270</th>\n",
       "      <td>(81509) PL Хлоргексидин биглюконат р-р 0.05% ф...</td>\n",
       "      <td>73543</td>\n",
       "    </tr>\n",
       "    <tr>\n",
       "      <th>19371</th>\n",
       "      <td>(20116) Тауфон капли глазн 4% фл 10 мл. пласт....</td>\n",
       "      <td>69044</td>\n",
       "    </tr>\n",
       "    <tr>\n",
       "      <th>31327</th>\n",
       "      <td>(70458) Пенталгин таб.п.п.о.№24 (без кодеина)</td>\n",
       "      <td>68622</td>\n",
       "    </tr>\n",
       "    <tr>\n",
       "      <th>8255</th>\n",
       "      <td>(118125) Кардиомагнил таб.п.п.о.75мг №100</td>\n",
       "      <td>67034</td>\n",
       "    </tr>\n",
       "    <tr>\n",
       "      <th>13578</th>\n",
       "      <td>(180739) Омепразол-Акрихин капс.кишечнораст.20...</td>\n",
       "      <td>66781</td>\n",
       "    </tr>\n",
       "  </tbody>\n",
       "</table>\n",
       "</div>"
      ],
      "text/plain": [
       "                                                    name  number\n",
       "26684         (48791) Свободная сумма НДС18% (служебный)  169191\n",
       "18206                   (197312) Пакет-майка 25см х 45см  118106\n",
       "13866                   (181542) Карта Забота о Здоровье   89851\n",
       "27955        (57733) Корвалол капли д/приема внутрь 25мл   87792\n",
       "8107                     (117825) Панангин таб.п.п.о.№50   77153\n",
       "33270  (81509) PL Хлоргексидин биглюконат р-р 0.05% ф...   73543\n",
       "19371  (20116) Тауфон капли глазн 4% фл 10 мл. пласт....   69044\n",
       "31327      (70458) Пенталгин таб.п.п.о.№24 (без кодеина)   68622\n",
       "8255           (118125) Кардиомагнил таб.п.п.о.75мг №100   67034\n",
       "13578  (180739) Омепразол-Акрихин капс.кишечнораст.20...   66781"
      ]
     },
     "execution_count": 26,
     "metadata": {},
     "output_type": "execute_result"
    }
   ],
   "source": [
    "top_products.head(10)"
   ]
  },
  {
   "cell_type": "markdown",
   "metadata": {},
   "source": [
    "### Количество покупок"
   ]
  },
  {
   "cell_type": "code",
   "execution_count": 30,
   "metadata": {},
   "outputs": [],
   "source": [
    "# посчитаем количество транзакций для каждого покупателя за весь рассматриваемый период"
   ]
  },
  {
   "cell_type": "code",
   "execution_count": 31,
   "metadata": {},
   "outputs": [],
   "source": [
    "purchase_frequency = data.groupby(['contact_id'])['sale_date'].nunique().reset_index(name='frequency')"
   ]
  },
  {
   "cell_type": "code",
   "execution_count": 32,
   "metadata": {},
   "outputs": [
    {
     "data": {
      "text/html": [
       "<div>\n",
       "<style scoped>\n",
       "    .dataframe tbody tr th:only-of-type {\n",
       "        vertical-align: middle;\n",
       "    }\n",
       "\n",
       "    .dataframe tbody tr th {\n",
       "        vertical-align: top;\n",
       "    }\n",
       "\n",
       "    .dataframe thead th {\n",
       "        text-align: right;\n",
       "    }\n",
       "</style>\n",
       "<table border=\"1\" class=\"dataframe\">\n",
       "  <thead>\n",
       "    <tr style=\"text-align: right;\">\n",
       "      <th></th>\n",
       "      <th>contact_id</th>\n",
       "      <th>frequency</th>\n",
       "    </tr>\n",
       "  </thead>\n",
       "  <tbody>\n",
       "    <tr>\n",
       "      <th>0</th>\n",
       "      <td>373</td>\n",
       "      <td>2</td>\n",
       "    </tr>\n",
       "    <tr>\n",
       "      <th>1</th>\n",
       "      <td>374</td>\n",
       "      <td>1</td>\n",
       "    </tr>\n",
       "    <tr>\n",
       "      <th>2</th>\n",
       "      <td>376</td>\n",
       "      <td>1</td>\n",
       "    </tr>\n",
       "    <tr>\n",
       "      <th>3</th>\n",
       "      <td>377</td>\n",
       "      <td>1</td>\n",
       "    </tr>\n",
       "    <tr>\n",
       "      <th>4</th>\n",
       "      <td>378</td>\n",
       "      <td>3</td>\n",
       "    </tr>\n",
       "  </tbody>\n",
       "</table>\n",
       "</div>"
      ],
      "text/plain": [
       "   contact_id  frequency\n",
       "0         373          2\n",
       "1         374          1\n",
       "2         376          1\n",
       "3         377          1\n",
       "4         378          3"
      ]
     },
     "execution_count": 32,
     "metadata": {},
     "output_type": "execute_result"
    }
   ],
   "source": [
    "purchase_frequency.head()"
   ]
  },
  {
   "cell_type": "code",
   "execution_count": 33,
   "metadata": {},
   "outputs": [
    {
     "data": {
      "image/png": "[encoded data removed]",
      "text/plain": [
       "<Figure size 2880x1080 with 1 Axes>"
      ]
     },
     "metadata": {},
     "output_type": "display_data"
    }
   ],
   "source": [
    "sns.set(rc = {'figure.figsize':(40, 15)})\n",
    "sns.countplot(x='frequency', data=purchase_frequency)\n",
    "plt.show()"
   ]
  },
  {
   "cell_type": "code",
   "execution_count": 34,
   "metadata": {},
   "outputs": [],
   "source": [
    "# большинство покупателей совершило только одну покупку\n",
    "# возможно, это объясняется тем, что у очень маленького процента покупателей есть карта лояльности"
   ]
  },
  {
   "cell_type": "code",
   "execution_count": 35,
   "metadata": {},
   "outputs": [
    {
     "data": {
      "text/plain": [
       "array([1., 2., 5.])"
      ]
     },
     "execution_count": 35,
     "metadata": {},
     "output_type": "execute_result"
    }
   ],
   "source": [
    "# 50% покупателей совершили 1 или 2 покупки\n",
    "np.percentile(purchase_frequency['frequency'], [25, 50, 75])"
   ]
  },
  {
   "cell_type": "code",
   "execution_count": 36,
   "metadata": {},
   "outputs": [
    {
     "data": {
      "text/plain": [
       "array([  1.,   1.,   1.,   2.,   2.,   3.,   4.,   6.,   8., 170.])"
      ]
     },
     "execution_count": 36,
     "metadata": {},
     "output_type": "execute_result"
    }
   ],
   "source": [
    "np.percentile(purchase_frequency['frequency'], [10, 20, 30, 40, 50, 60, 70, 80, 90, 100])"
   ]
  },
  {
   "cell_type": "markdown",
   "metadata": {},
   "source": [
    "### Длина чека"
   ]
  },
  {
   "cell_type": "code",
   "execution_count": 37,
   "metadata": {},
   "outputs": [
    {
     "data": {
      "text/html": [
       "<div>\n",
       "<style scoped>\n",
       "    .dataframe tbody tr th:only-of-type {\n",
       "        vertical-align: middle;\n",
       "    }\n",
       "\n",
       "    .dataframe tbody tr th {\n",
       "        vertical-align: top;\n",
       "    }\n",
       "\n",
       "    .dataframe thead th {\n",
       "        text-align: right;\n",
       "    }\n",
       "</style>\n",
       "<table border=\"1\" class=\"dataframe\">\n",
       "  <thead>\n",
       "    <tr style=\"text-align: right;\">\n",
       "      <th></th>\n",
       "      <th>contact_id</th>\n",
       "      <th>sale_date</th>\n",
       "      <th>shop_id</th>\n",
       "      <th>products</th>\n",
       "    </tr>\n",
       "  </thead>\n",
       "  <tbody>\n",
       "    <tr>\n",
       "      <th>0</th>\n",
       "      <td>373</td>\n",
       "      <td>2018-02-21</td>\n",
       "      <td>311</td>\n",
       "      <td>[113441, 137357, 115823, 158586, 91063, 61115,...</td>\n",
       "    </tr>\n",
       "    <tr>\n",
       "      <th>1</th>\n",
       "      <td>373</td>\n",
       "      <td>2018-11-29</td>\n",
       "      <td>311</td>\n",
       "      <td>[134832, 19578, 57835, 154101, 61115]</td>\n",
       "    </tr>\n",
       "    <tr>\n",
       "      <th>2</th>\n",
       "      <td>374</td>\n",
       "      <td>2018-12-07</td>\n",
       "      <td>608</td>\n",
       "      <td>[38462]</td>\n",
       "    </tr>\n",
       "    <tr>\n",
       "      <th>3</th>\n",
       "      <td>376</td>\n",
       "      <td>2018-01-22</td>\n",
       "      <td>271</td>\n",
       "      <td>[105098]</td>\n",
       "    </tr>\n",
       "    <tr>\n",
       "      <th>4</th>\n",
       "      <td>377</td>\n",
       "      <td>2018-01-02</td>\n",
       "      <td>268</td>\n",
       "      <td>[44789, 62807, 102048]</td>\n",
       "    </tr>\n",
       "  </tbody>\n",
       "</table>\n",
       "</div>"
      ],
      "text/plain": [
       "   contact_id  sale_date  shop_id  \\\n",
       "0         373 2018-02-21      311   \n",
       "1         373 2018-11-29      311   \n",
       "2         374 2018-12-07      608   \n",
       "3         376 2018-01-22      271   \n",
       "4         377 2018-01-02      268   \n",
       "\n",
       "                                            products  \n",
       "0  [113441, 137357, 115823, 158586, 91063, 61115,...  \n",
       "1              [134832, 19578, 57835, 154101, 61115]  \n",
       "2                                            [38462]  \n",
       "3                                           [105098]  \n",
       "4                             [44789, 62807, 102048]  "
      ]
     },
     "execution_count": 37,
     "metadata": {},
     "output_type": "execute_result"
    }
   ],
   "source": [
    "bills = data.groupby(['contact_id', 'sale_date', 'shop_id'])['product_id'].unique().reset_index(name = 'products')\n",
    "bills.head()"
   ]
  },
  {
   "cell_type": "code",
   "execution_count": 38,
   "metadata": {},
   "outputs": [
    {
     "data": {
      "text/plain": [
       "array([113441, 137357, 115823, 158586,  91063,  61115, 147658])"
      ]
     },
     "execution_count": 38,
     "metadata": {},
     "output_type": "execute_result"
    }
   ],
   "source": [
    "bills = bills['products'].tolist()\n",
    "bills[0]"
   ]
  },
  {
   "cell_type": "code",
   "execution_count": 39,
   "metadata": {},
   "outputs": [
    {
     "data": {
      "text/plain": [
       "[113441, 137357, 115823, 158586, 91063, 61115, 147658]"
      ]
     },
     "execution_count": 39,
     "metadata": {},
     "output_type": "execute_result"
    }
   ],
   "source": [
    "# получили список, состоящий из numpy arrays\n",
    "# преобразуем в список списков\n",
    "\n",
    "bills_list = []\n",
    "\n",
    "for element in bills:\n",
    "    bills_list.append(element.tolist())\n",
    "    \n",
    "bills_list[0]"
   ]
  },
  {
   "cell_type": "code",
   "execution_count": 40,
   "metadata": {},
   "outputs": [],
   "source": [
    "bills_length = [len(x) for x in bills_list]"
   ]
  },
  {
   "cell_type": "code",
   "execution_count": 159,
   "metadata": {},
   "outputs": [
    {
     "data": {
      "text/plain": [
       "array([  1.,   1.,   2.,   4., 342.])"
      ]
     },
     "execution_count": 159,
     "metadata": {},
     "output_type": "execute_result"
    }
   ],
   "source": [
    "np.percentile(bills_length, [0, 25, 50, 75, 100])"
   ]
  },
  {
   "cell_type": "code",
   "execution_count": 41,
   "metadata": {},
   "outputs": [
    {
     "name": "stdout",
     "output_type": "stream",
     "text": [
      "# min bill length:  1\n",
      "# mean bill length:  3.190220173213312\n",
      "# median bill length:  2\n",
      "# max bill length:  342\n"
     ]
    }
   ],
   "source": [
    "min_bill_length = min(bills_length)\n",
    "mean_bill_length = mean(bills_length)\n",
    "median_bill_length = median(bills_length)\n",
    "max_bill_length = max(bills_length)\n",
    "\n",
    "print('# min bill length: ', min_bill_length)\n",
    "print('# mean bill length: ', mean_bill_length)\n",
    "print('# median bill length: ', median_bill_length)\n",
    "print('# max bill length: ', max_bill_length)"
   ]
  },
  {
   "cell_type": "markdown",
   "metadata": {},
   "source": [
    "### Количество транзакций с 2-мя и более товарами"
   ]
  },
  {
   "cell_type": "code",
   "execution_count": 131,
   "metadata": {},
   "outputs": [],
   "source": [
    "# возьмем транзакции с 2-мя и более товарами (для работы алгоритма Word2Vec)\n",
    "\n",
    "bill_length_2_and_more = []\n",
    "\n",
    "for element in bills_list:\n",
    "    if len(element) >= 2:\n",
    "        bill_length_2_and_more.append(element)"
   ]
  },
  {
   "cell_type": "code",
   "execution_count": 132,
   "metadata": {},
   "outputs": [
    {
     "data": {
      "text/plain": [
       "4421405"
      ]
     },
     "execution_count": 132,
     "metadata": {},
     "output_type": "execute_result"
    }
   ],
   "source": [
    "len(bill_length_2_and_more)"
   ]
  },
  {
   "cell_type": "code",
   "execution_count": 133,
   "metadata": {},
   "outputs": [
    {
     "data": {
      "text/plain": [
       "72.19107182247554"
      ]
     },
     "execution_count": 133,
     "metadata": {},
     "output_type": "execute_result"
    }
   ],
   "source": [
    "# процент транзакций с 2-мя и более товарами\n",
    "len(bill_length_2_and_more) / len(bills_list) * 100"
   ]
  },
  {
   "cell_type": "markdown",
   "metadata": {},
   "source": [
    "## Разбиение данных на тренировочную и тестовую выборки"
   ]
  },
  {
   "cell_type": "code",
   "execution_count": 42,
   "metadata": {},
   "outputs": [],
   "source": [
    "data_train = data.loc[data['month'] < 6]"
   ]
  },
  {
   "cell_type": "code",
   "execution_count": 43,
   "metadata": {},
   "outputs": [
    {
     "data": {
      "text/plain": [
       "array([1, 2, 3, 4, 5])"
      ]
     },
     "execution_count": 43,
     "metadata": {},
     "output_type": "execute_result"
    }
   ],
   "source": [
    "data_train.month.unique()"
   ]
  },
  {
   "cell_type": "code",
   "execution_count": 44,
   "metadata": {},
   "outputs": [
    {
     "data": {
      "text/plain": [
       "(13085180, 10)"
      ]
     },
     "execution_count": 44,
     "metadata": {},
     "output_type": "execute_result"
    }
   ],
   "source": [
    "data_train.shape"
   ]
  },
  {
   "cell_type": "code",
   "execution_count": 45,
   "metadata": {},
   "outputs": [],
   "source": [
    "data_test = data.loc[(data['month'] >= 6) & (data['month'] < 8)]"
   ]
  },
  {
   "cell_type": "code",
   "execution_count": 46,
   "metadata": {},
   "outputs": [
    {
     "data": {
      "text/plain": [
       "array([6, 7])"
      ]
     },
     "execution_count": 46,
     "metadata": {},
     "output_type": "execute_result"
    }
   ],
   "source": [
    "data_test.month.unique()"
   ]
  },
  {
   "cell_type": "code",
   "execution_count": 47,
   "metadata": {},
   "outputs": [
    {
     "data": {
      "text/plain": [
       "(2289678, 10)"
      ]
     },
     "execution_count": 47,
     "metadata": {},
     "output_type": "execute_result"
    }
   ],
   "source": [
    "data_test.shape"
   ]
  },
  {
   "cell_type": "markdown",
   "metadata": {},
   "source": [
    "## Обучение модели"
   ]
  },
  {
   "cell_type": "code",
   "execution_count": 49,
   "metadata": {},
   "outputs": [
    {
     "data": {
      "text/html": [
       "<div>\n",
       "<style scoped>\n",
       "    .dataframe tbody tr th:only-of-type {\n",
       "        vertical-align: middle;\n",
       "    }\n",
       "\n",
       "    .dataframe tbody tr th {\n",
       "        vertical-align: top;\n",
       "    }\n",
       "\n",
       "    .dataframe thead th {\n",
       "        text-align: right;\n",
       "    }\n",
       "</style>\n",
       "<table border=\"1\" class=\"dataframe\">\n",
       "  <thead>\n",
       "    <tr style=\"text-align: right;\">\n",
       "      <th></th>\n",
       "      <th>contact_id</th>\n",
       "      <th>sale_date</th>\n",
       "      <th>shop_id</th>\n",
       "      <th>products</th>\n",
       "    </tr>\n",
       "  </thead>\n",
       "  <tbody>\n",
       "    <tr>\n",
       "      <th>0</th>\n",
       "      <td>373</td>\n",
       "      <td>2018-02-21</td>\n",
       "      <td>311</td>\n",
       "      <td>[113441, 137357, 115823, 158586, 91063, 61115,...</td>\n",
       "    </tr>\n",
       "    <tr>\n",
       "      <th>1</th>\n",
       "      <td>376</td>\n",
       "      <td>2018-01-22</td>\n",
       "      <td>271</td>\n",
       "      <td>[105098]</td>\n",
       "    </tr>\n",
       "    <tr>\n",
       "      <th>2</th>\n",
       "      <td>377</td>\n",
       "      <td>2018-01-02</td>\n",
       "      <td>268</td>\n",
       "      <td>[44789, 62807, 102048]</td>\n",
       "    </tr>\n",
       "    <tr>\n",
       "      <th>3</th>\n",
       "      <td>378</td>\n",
       "      <td>2018-03-22</td>\n",
       "      <td>269</td>\n",
       "      <td>[75972, 83462, 41353]</td>\n",
       "    </tr>\n",
       "    <tr>\n",
       "      <th>4</th>\n",
       "      <td>378</td>\n",
       "      <td>2018-04-25</td>\n",
       "      <td>97</td>\n",
       "      <td>[75972, 41353, 114112, 101409, 69416]</td>\n",
       "    </tr>\n",
       "  </tbody>\n",
       "</table>\n",
       "</div>"
      ],
      "text/plain": [
       "   contact_id  sale_date  shop_id  \\\n",
       "0         373 2018-02-21      311   \n",
       "1         376 2018-01-22      271   \n",
       "2         377 2018-01-02      268   \n",
       "3         378 2018-03-22      269   \n",
       "4         378 2018-04-25       97   \n",
       "\n",
       "                                            products  \n",
       "0  [113441, 137357, 115823, 158586, 91063, 61115,...  \n",
       "1                                           [105098]  \n",
       "2                             [44789, 62807, 102048]  \n",
       "3                              [75972, 83462, 41353]  \n",
       "4              [75972, 41353, 114112, 101409, 69416]  "
      ]
     },
     "execution_count": 49,
     "metadata": {},
     "output_type": "execute_result"
    }
   ],
   "source": [
    "# создадим список с историей покупок на тренировочном датасете\n",
    "\n",
    "bills_train = data_train.groupby(['contact_id', 'sale_date', 'shop_id'])['product_id'].unique().reset_index(name = 'products')\n",
    "bills_train.head()"
   ]
  },
  {
   "cell_type": "code",
   "execution_count": 50,
   "metadata": {},
   "outputs": [
    {
     "data": {
      "text/plain": [
       "array([113441, 137357, 115823, 158586,  91063,  61115, 147658])"
      ]
     },
     "execution_count": 50,
     "metadata": {},
     "output_type": "execute_result"
    }
   ],
   "source": [
    "bills_train_list = bills_train['products'].tolist()\n",
    "bills_train_list[0]"
   ]
  },
  {
   "cell_type": "code",
   "execution_count": 51,
   "metadata": {},
   "outputs": [
    {
     "data": {
      "text/plain": [
       "[113441, 137357, 115823, 158586, 91063, 61115, 147658]"
      ]
     },
     "execution_count": 51,
     "metadata": {},
     "output_type": "execute_result"
    }
   ],
   "source": [
    "# получили список, состоящий из numpy arrays\n",
    "# преобразуем в список списков\n",
    "\n",
    "bills_train = []\n",
    "\n",
    "for element in bills_train_list:\n",
    "    bills_train.append(element.tolist())\n",
    "    \n",
    "bills_train[0]"
   ]
  },
  {
   "cell_type": "code",
   "execution_count": 54,
   "metadata": {},
   "outputs": [
    {
     "data": {
      "text/plain": [
       "3822386"
      ]
     },
     "execution_count": 54,
     "metadata": {},
     "output_type": "execute_result"
    }
   ],
   "source": [
    "len(bills_train)"
   ]
  },
  {
   "cell_type": "code",
   "execution_count": 68,
   "metadata": {},
   "outputs": [],
   "source": [
    "# возьмем транзакции с 3-мя и более товарами\n",
    "\n",
    "bills_train_model = []\n",
    "\n",
    "for element in bills_train:\n",
    "    if len(element) >= 3:\n",
    "        bills_train_model.append(element)"
   ]
  },
  {
   "cell_type": "code",
   "execution_count": 69,
   "metadata": {},
   "outputs": [
    {
     "data": {
      "text/plain": [
       "1907662"
      ]
     },
     "execution_count": 69,
     "metadata": {},
     "output_type": "execute_result"
    }
   ],
   "source": [
    "len(bills_train_model)"
   ]
  },
  {
   "cell_type": "code",
   "execution_count": 70,
   "metadata": {},
   "outputs": [
    {
     "data": {
      "text/plain": [
       "49.90762314428736"
      ]
     },
     "execution_count": 70,
     "metadata": {},
     "output_type": "execute_result"
    }
   ],
   "source": [
    "# процент транзакций с 3-мя и более товарами\n",
    "len(bills_train_model) / len(bills_train) * 100"
   ]
  },
  {
   "cell_type": "code",
   "execution_count": 71,
   "metadata": {},
   "outputs": [],
   "source": [
    "# проверим среднюю длину чека после того, как отобрали только транзакции с 3-мя и более продуктами.\n",
    "\n",
    "bills_train_length = [len(x) for x in bills_train_model]"
   ]
  },
  {
   "cell_type": "code",
   "execution_count": 72,
   "metadata": {},
   "outputs": [
    {
     "name": "stdout",
     "output_type": "stream",
     "text": [
      "# min bill length:  3\n",
      "# mean bill length:  5.213378470609573\n",
      "# median bill length:  4.0\n",
      "# max bill length:  342\n"
     ]
    }
   ],
   "source": [
    "min_bill_length_train = min(bills_train_length)\n",
    "mean_bill_length_train = mean(bills_train_length)\n",
    "median_bill_length_train = median(bills_train_length)\n",
    "max_bill_length_train = max(bills_train_length)\n",
    "\n",
    "print('# min bill length: ', min_bill_length_train)\n",
    "print('# mean bill length: ', mean_bill_length_train)\n",
    "print('# median bill length: ', median_bill_length_train)\n",
    "print('# max bill length: ', max_bill_length_train)"
   ]
  },
  {
   "cell_type": "code",
   "execution_count": 73,
   "metadata": {},
   "outputs": [],
   "source": [
    "# обучаем Word2Vec модель\n",
    "\n",
    "model = Word2Vec(bills_train_model, vector_size = 350, window = 10, sg = 0, min_count = 5)"
   ]
  },
  {
   "cell_type": "markdown",
   "metadata": {},
   "source": [
    "## Проверяем работу модели на тестовой выборке"
   ]
  },
  {
   "cell_type": "markdown",
   "metadata": {},
   "source": [
    "### Создаем датафрейм с историей покупок"
   ]
  },
  {
   "cell_type": "code",
   "execution_count": 74,
   "metadata": {},
   "outputs": [],
   "source": [
    "# создаем датафрейм с историей покупок на тестовом датасете\n",
    "\n",
    "test_df = pd.DataFrame()\n",
    "\n",
    "# В датафрейм добавим следующие столбцы:\n",
    "# basket - 2/3 товаров корзины, которые передаем модели\n",
    "# targets - 1/3 товаров корзины, которые пытаемся предсказать\n",
    "# recs - рекомендованные моделью товары"
   ]
  },
  {
   "cell_type": "code",
   "execution_count": 75,
   "metadata": {},
   "outputs": [
    {
     "data": {
      "text/html": [
       "<div>\n",
       "<style scoped>\n",
       "    .dataframe tbody tr th:only-of-type {\n",
       "        vertical-align: middle;\n",
       "    }\n",
       "\n",
       "    .dataframe tbody tr th {\n",
       "        vertical-align: top;\n",
       "    }\n",
       "\n",
       "    .dataframe thead th {\n",
       "        text-align: right;\n",
       "    }\n",
       "</style>\n",
       "<table border=\"1\" class=\"dataframe\">\n",
       "  <thead>\n",
       "    <tr style=\"text-align: right;\">\n",
       "      <th></th>\n",
       "      <th>contact_id</th>\n",
       "      <th>sale_date</th>\n",
       "      <th>shop_id</th>\n",
       "      <th>products</th>\n",
       "    </tr>\n",
       "  </thead>\n",
       "  <tbody>\n",
       "    <tr>\n",
       "      <th>0</th>\n",
       "      <td>384</td>\n",
       "      <td>2018-06-06</td>\n",
       "      <td>321</td>\n",
       "      <td>[40261, 21168]</td>\n",
       "    </tr>\n",
       "    <tr>\n",
       "      <th>1</th>\n",
       "      <td>390</td>\n",
       "      <td>2018-06-05</td>\n",
       "      <td>348</td>\n",
       "      <td>[51657, 121659, 147598]</td>\n",
       "    </tr>\n",
       "    <tr>\n",
       "      <th>2</th>\n",
       "      <td>397</td>\n",
       "      <td>2018-06-08</td>\n",
       "      <td>311</td>\n",
       "      <td>[128727, 18309]</td>\n",
       "    </tr>\n",
       "    <tr>\n",
       "      <th>3</th>\n",
       "      <td>398</td>\n",
       "      <td>2018-06-06</td>\n",
       "      <td>1057</td>\n",
       "      <td>[64787]</td>\n",
       "    </tr>\n",
       "    <tr>\n",
       "      <th>4</th>\n",
       "      <td>398</td>\n",
       "      <td>2018-06-10</td>\n",
       "      <td>1057</td>\n",
       "      <td>[68751, 64731, 64787]</td>\n",
       "    </tr>\n",
       "  </tbody>\n",
       "</table>\n",
       "</div>"
      ],
      "text/plain": [
       "   contact_id  sale_date  shop_id                 products\n",
       "0         384 2018-06-06      321           [40261, 21168]\n",
       "1         390 2018-06-05      348  [51657, 121659, 147598]\n",
       "2         397 2018-06-08      311          [128727, 18309]\n",
       "3         398 2018-06-06     1057                  [64787]\n",
       "4         398 2018-06-10     1057    [68751, 64731, 64787]"
      ]
     },
     "execution_count": 75,
     "metadata": {},
     "output_type": "execute_result"
    }
   ],
   "source": [
    "bills_test = data_test.groupby(['contact_id', 'sale_date', 'shop_id'])['product_id'].unique().reset_index(name = 'products')\n",
    "bills_test.head()"
   ]
  },
  {
   "cell_type": "code",
   "execution_count": 76,
   "metadata": {},
   "outputs": [
    {
     "data": {
      "text/plain": [
       "array([40261, 21168])"
      ]
     },
     "execution_count": 76,
     "metadata": {},
     "output_type": "execute_result"
    }
   ],
   "source": [
    "bills_test_list = bills_test['products'].tolist()\n",
    "bills_test_list[0]"
   ]
  },
  {
   "cell_type": "code",
   "execution_count": 77,
   "metadata": {},
   "outputs": [
    {
     "data": {
      "text/plain": [
       "[40261, 21168]"
      ]
     },
     "execution_count": 77,
     "metadata": {},
     "output_type": "execute_result"
    }
   ],
   "source": [
    "# получили список, состоящий из numpy arrays\n",
    "# преобразуем в список списков\n",
    "\n",
    "bills_test = []\n",
    "\n",
    "for element in bills_test_list:\n",
    "    bills_test.append(element.tolist())\n",
    "    \n",
    "bills_test[0]"
   ]
  },
  {
   "cell_type": "code",
   "execution_count": 78,
   "metadata": {},
   "outputs": [
    {
     "data": {
      "text/plain": [
       "750009"
      ]
     },
     "execution_count": 78,
     "metadata": {},
     "output_type": "execute_result"
    }
   ],
   "source": [
    "len(bills_test)"
   ]
  },
  {
   "cell_type": "code",
   "execution_count": 79,
   "metadata": {},
   "outputs": [],
   "source": [
    "# возьмем транзакции с 3-мя и более товарами\n",
    "\n",
    "bills_test_model = []\n",
    "\n",
    "for element in bills_test:\n",
    "    if len(element) >= 3:\n",
    "        bills_test_model.append(element)"
   ]
  },
  {
   "cell_type": "code",
   "execution_count": 80,
   "metadata": {},
   "outputs": [
    {
     "data": {
      "text/plain": [
       "326162"
      ]
     },
     "execution_count": 80,
     "metadata": {},
     "output_type": "execute_result"
    }
   ],
   "source": [
    "len(bills_test_model)"
   ]
  },
  {
   "cell_type": "code",
   "execution_count": 81,
   "metadata": {},
   "outputs": [
    {
     "data": {
      "text/plain": [
       "43.4877448137289"
      ]
     },
     "execution_count": 81,
     "metadata": {},
     "output_type": "execute_result"
    }
   ],
   "source": [
    "# процент транзакций с 3-мя и более товарами\n",
    "len(bills_test_model) / len(bills_test) * 100"
   ]
  },
  {
   "cell_type": "code",
   "execution_count": 83,
   "metadata": {},
   "outputs": [],
   "source": [
    "# проверим среднюю длину чека после того, как отобрали только транзакции с 3-мя и более продуктами.\n",
    "\n",
    "bills_test_length = [len(x) for x in bills_test_model]"
   ]
  },
  {
   "cell_type": "code",
   "execution_count": 85,
   "metadata": {},
   "outputs": [
    {
     "name": "stdout",
     "output_type": "stream",
     "text": [
      "# min bill length:  3\n",
      "# mean bill length:  5.025318706654975\n",
      "# median bill length:  4.0\n",
      "# max bill length:  261\n"
     ]
    }
   ],
   "source": [
    "min_bill_length_test = min(bills_test_length)\n",
    "mean_bill_length_test = mean(bills_test_length)\n",
    "median_bill_length_test = median(bills_test_length)\n",
    "max_bill_length_test = max(bills_test_length)\n",
    "\n",
    "print('# min bill length: ', min_bill_length_test)\n",
    "print('# mean bill length: ', mean_bill_length_test)\n",
    "print('# median bill length: ', median_bill_length_test)\n",
    "print('# max bill length: ', max_bill_length_test)"
   ]
  },
  {
   "cell_type": "code",
   "execution_count": 91,
   "metadata": {},
   "outputs": [],
   "source": [
    "# basket - 2/3 товаров корзины\n",
    "\n",
    "basket_test = []\n",
    "\n",
    "for element in bills_test_model:\n",
    "    lenth = round((len(element) / 3) * 2)\n",
    "    basket_products = element[:lenth]\n",
    "    basket_test.append(basket_products)"
   ]
  },
  {
   "cell_type": "code",
   "execution_count": 92,
   "metadata": {},
   "outputs": [],
   "source": [
    "# targets - 1/3 товаров корзины\n",
    "\n",
    "targets_test = []\n",
    "\n",
    "for element in bills_test_model:\n",
    "    lenth = round((len(element) / 3) * 2)\n",
    "    target_products = element[lenth:]\n",
    "    targets_test.append(target_products)"
   ]
  },
  {
   "cell_type": "code",
   "execution_count": 93,
   "metadata": {},
   "outputs": [
    {
     "data": {
      "text/html": [
       "<div>\n",
       "<style scoped>\n",
       "    .dataframe tbody tr th:only-of-type {\n",
       "        vertical-align: middle;\n",
       "    }\n",
       "\n",
       "    .dataframe tbody tr th {\n",
       "        vertical-align: top;\n",
       "    }\n",
       "\n",
       "    .dataframe thead th {\n",
       "        text-align: right;\n",
       "    }\n",
       "</style>\n",
       "<table border=\"1\" class=\"dataframe\">\n",
       "  <thead>\n",
       "    <tr style=\"text-align: right;\">\n",
       "      <th></th>\n",
       "      <th>basket</th>\n",
       "      <th>targets</th>\n",
       "    </tr>\n",
       "  </thead>\n",
       "  <tbody>\n",
       "    <tr>\n",
       "      <th>0</th>\n",
       "      <td>[51657, 121659]</td>\n",
       "      <td>[147598]</td>\n",
       "    </tr>\n",
       "    <tr>\n",
       "      <th>1</th>\n",
       "      <td>[68751, 64731]</td>\n",
       "      <td>[64787]</td>\n",
       "    </tr>\n",
       "    <tr>\n",
       "      <th>2</th>\n",
       "      <td>[153158, 48367]</td>\n",
       "      <td>[66646]</td>\n",
       "    </tr>\n",
       "    <tr>\n",
       "      <th>3</th>\n",
       "      <td>[155974, 145864, 51564]</td>\n",
       "      <td>[93274, 76935]</td>\n",
       "    </tr>\n",
       "    <tr>\n",
       "      <th>4</th>\n",
       "      <td>[135553, 120687]</td>\n",
       "      <td>[123293]</td>\n",
       "    </tr>\n",
       "  </tbody>\n",
       "</table>\n",
       "</div>"
      ],
      "text/plain": [
       "                    basket         targets\n",
       "0          [51657, 121659]        [147598]\n",
       "1           [68751, 64731]         [64787]\n",
       "2          [153158, 48367]         [66646]\n",
       "3  [155974, 145864, 51564]  [93274, 76935]\n",
       "4         [135553, 120687]        [123293]"
      ]
     },
     "execution_count": 93,
     "metadata": {},
     "output_type": "execute_result"
    }
   ],
   "source": [
    "test_df['basket'] = basket_test\n",
    "test_df['targets'] = targets_test\n",
    "\n",
    "test_df.head()"
   ]
  },
  {
   "cell_type": "markdown",
   "metadata": {},
   "source": [
    "### Получаем предсказания модели"
   ]
  },
  {
   "cell_type": "code",
   "execution_count": 94,
   "metadata": {},
   "outputs": [],
   "source": [
    "def model_predict(basket, n):\n",
    "    \n",
    "    recs = model.predict_output_word(basket, topn=n)\n",
    "    \n",
    "    result = []\n",
    "    \n",
    "    if recs is None:\n",
    "        pass\n",
    "    else:\n",
    "        for rec in recs:\n",
    "            result.append(rec[0])\n",
    "    \n",
    "    return result  "
   ]
  },
  {
   "cell_type": "code",
   "execution_count": 95,
   "metadata": {},
   "outputs": [],
   "source": [
    "# Предсказываем 5 товаров.\n",
    "# Из этих 5-ти товаров фармацевт выбирает те, которые:\n",
    "    # отпускаются без рецепта врача;\n",
    "    # наиболее удачно соотçветствуют запросу клиента."
   ]
  },
  {
   "cell_type": "code",
   "execution_count": 97,
   "metadata": {},
   "outputs": [],
   "source": [
    "test_df['recs'] = test_df['basket'].apply(lambda x: model_predict(x, n=5))"
   ]
  },
  {
   "cell_type": "code",
   "execution_count": 98,
   "metadata": {},
   "outputs": [
    {
     "data": {
      "text/html": [
       "<div>\n",
       "<style scoped>\n",
       "    .dataframe tbody tr th:only-of-type {\n",
       "        vertical-align: middle;\n",
       "    }\n",
       "\n",
       "    .dataframe tbody tr th {\n",
       "        vertical-align: top;\n",
       "    }\n",
       "\n",
       "    .dataframe thead th {\n",
       "        text-align: right;\n",
       "    }\n",
       "</style>\n",
       "<table border=\"1\" class=\"dataframe\">\n",
       "  <thead>\n",
       "    <tr style=\"text-align: right;\">\n",
       "      <th></th>\n",
       "      <th>basket</th>\n",
       "      <th>targets</th>\n",
       "      <th>recs</th>\n",
       "    </tr>\n",
       "  </thead>\n",
       "  <tbody>\n",
       "    <tr>\n",
       "      <th>0</th>\n",
       "      <td>[51657, 121659]</td>\n",
       "      <td>[147598]</td>\n",
       "      <td>[61101, 100313, 72324, 133589, 61087]</td>\n",
       "    </tr>\n",
       "    <tr>\n",
       "      <th>1</th>\n",
       "      <td>[68751, 64731]</td>\n",
       "      <td>[64787]</td>\n",
       "      <td>[79960, 95179, 118235, 90696, 94613]</td>\n",
       "    </tr>\n",
       "    <tr>\n",
       "      <th>2</th>\n",
       "      <td>[153158, 48367]</td>\n",
       "      <td>[66646]</td>\n",
       "      <td>[153160, 153393, 153446, 153158, 154019]</td>\n",
       "    </tr>\n",
       "    <tr>\n",
       "      <th>3</th>\n",
       "      <td>[155974, 145864, 51564]</td>\n",
       "      <td>[93274, 76935]</td>\n",
       "      <td>[125415, 192043, 145899, 68690, 61946]</td>\n",
       "    </tr>\n",
       "    <tr>\n",
       "      <th>4</th>\n",
       "      <td>[135553, 120687]</td>\n",
       "      <td>[123293]</td>\n",
       "      <td>[148082, 135553, 41096, 56592, 42350]</td>\n",
       "    </tr>\n",
       "  </tbody>\n",
       "</table>\n",
       "</div>"
      ],
      "text/plain": [
       "                    basket         targets  \\\n",
       "0          [51657, 121659]        [147598]   \n",
       "1           [68751, 64731]         [64787]   \n",
       "2          [153158, 48367]         [66646]   \n",
       "3  [155974, 145864, 51564]  [93274, 76935]   \n",
       "4         [135553, 120687]        [123293]   \n",
       "\n",
       "                                       recs  \n",
       "0     [61101, 100313, 72324, 133589, 61087]  \n",
       "1      [79960, 95179, 118235, 90696, 94613]  \n",
       "2  [153160, 153393, 153446, 153158, 154019]  \n",
       "3    [125415, 192043, 145899, 68690, 61946]  \n",
       "4     [148082, 135553, 41096, 56592, 42350]  "
      ]
     },
     "execution_count": 98,
     "metadata": {},
     "output_type": "execute_result"
    }
   ],
   "source": [
    "test_df.head()"
   ]
  },
  {
   "cell_type": "markdown",
   "metadata": {},
   "source": [
    "### Проверяем качество и считаем recall at 5"
   ]
  },
  {
   "cell_type": "code",
   "execution_count": 105,
   "metadata": {},
   "outputs": [],
   "source": [
    "def flags(recommended_list, bought_list):\n",
    "    \n",
    "    bought_list = np.array(bought_list)\n",
    "    recommended_list = np.array(recommended_list)\n",
    "    \n",
    "    flags = np.isin(recommended_list, bought_list)\n",
    "    flags = flags.sum()\n",
    "    \n",
    "    return flags"
   ]
  },
  {
   "cell_type": "code",
   "execution_count": 106,
   "metadata": {},
   "outputs": [],
   "source": [
    "test_df['flags'] = test_df.apply(lambda row: flags(row['recs'], row['targets']), axis=1)"
   ]
  },
  {
   "cell_type": "code",
   "execution_count": 143,
   "metadata": {},
   "outputs": [],
   "source": [
    "test_df['targets_length'] = test_df.apply(lambda row: len(row['targets']), axis=1)"
   ]
  },
  {
   "cell_type": "code",
   "execution_count": 160,
   "metadata": {},
   "outputs": [
    {
     "data": {
      "text/html": [
       "<div>\n",
       "<style scoped>\n",
       "    .dataframe tbody tr th:only-of-type {\n",
       "        vertical-align: middle;\n",
       "    }\n",
       "\n",
       "    .dataframe tbody tr th {\n",
       "        vertical-align: top;\n",
       "    }\n",
       "\n",
       "    .dataframe thead th {\n",
       "        text-align: right;\n",
       "    }\n",
       "</style>\n",
       "<table border=\"1\" class=\"dataframe\">\n",
       "  <thead>\n",
       "    <tr style=\"text-align: right;\">\n",
       "      <th></th>\n",
       "      <th>basket</th>\n",
       "      <th>targets</th>\n",
       "      <th>recs</th>\n",
       "      <th>flags</th>\n",
       "      <th>targets_length</th>\n",
       "    </tr>\n",
       "  </thead>\n",
       "  <tbody>\n",
       "    <tr>\n",
       "      <th>0</th>\n",
       "      <td>[51657, 121659]</td>\n",
       "      <td>[147598]</td>\n",
       "      <td>[61101, 100313, 72324, 133589, 61087]</td>\n",
       "      <td>0</td>\n",
       "      <td>1</td>\n",
       "    </tr>\n",
       "    <tr>\n",
       "      <th>1</th>\n",
       "      <td>[68751, 64731]</td>\n",
       "      <td>[64787]</td>\n",
       "      <td>[79960, 95179, 118235, 90696, 94613]</td>\n",
       "      <td>0</td>\n",
       "      <td>1</td>\n",
       "    </tr>\n",
       "    <tr>\n",
       "      <th>2</th>\n",
       "      <td>[153158, 48367]</td>\n",
       "      <td>[66646]</td>\n",
       "      <td>[153160, 153393, 153446, 153158, 154019]</td>\n",
       "      <td>0</td>\n",
       "      <td>1</td>\n",
       "    </tr>\n",
       "    <tr>\n",
       "      <th>3</th>\n",
       "      <td>[155974, 145864, 51564]</td>\n",
       "      <td>[93274, 76935]</td>\n",
       "      <td>[125415, 192043, 145899, 68690, 61946]</td>\n",
       "      <td>0</td>\n",
       "      <td>2</td>\n",
       "    </tr>\n",
       "    <tr>\n",
       "      <th>4</th>\n",
       "      <td>[135553, 120687]</td>\n",
       "      <td>[123293]</td>\n",
       "      <td>[148082, 135553, 41096, 56592, 42350]</td>\n",
       "      <td>0</td>\n",
       "      <td>1</td>\n",
       "    </tr>\n",
       "  </tbody>\n",
       "</table>\n",
       "</div>"
      ],
      "text/plain": [
       "                    basket         targets  \\\n",
       "0          [51657, 121659]        [147598]   \n",
       "1           [68751, 64731]         [64787]   \n",
       "2          [153158, 48367]         [66646]   \n",
       "3  [155974, 145864, 51564]  [93274, 76935]   \n",
       "4         [135553, 120687]        [123293]   \n",
       "\n",
       "                                       recs  flags  targets_length  \n",
       "0     [61101, 100313, 72324, 133589, 61087]      0               1  \n",
       "1      [79960, 95179, 118235, 90696, 94613]      0               1  \n",
       "2  [153160, 153393, 153446, 153158, 154019]      0               1  \n",
       "3    [125415, 192043, 145899, 68690, 61946]      0               2  \n",
       "4     [148082, 135553, 41096, 56592, 42350]      0               1  "
      ]
     },
     "execution_count": 160,
     "metadata": {},
     "output_type": "execute_result"
    }
   ],
   "source": [
    "test_df.head()"
   ]
  },
  {
   "cell_type": "code",
   "execution_count": 145,
   "metadata": {},
   "outputs": [
    {
     "data": {
      "text/plain": [
       "533620"
      ]
     },
     "execution_count": 145,
     "metadata": {},
     "output_type": "execute_result"
    }
   ],
   "source": [
    "test_df['targets_length'].sum()"
   ]
  },
  {
   "cell_type": "code",
   "execution_count": 153,
   "metadata": {},
   "outputs": [
    {
     "data": {
      "text/plain": [
       "22308"
      ]
     },
     "execution_count": 153,
     "metadata": {},
     "output_type": "execute_result"
    }
   ],
   "source": [
    "test_df['flags'].sum()"
   ]
  },
  {
   "cell_type": "code",
   "execution_count": 158,
   "metadata": {},
   "outputs": [
    {
     "data": {
      "text/plain": [
       "0.06839545992482264"
      ]
     },
     "execution_count": 158,
     "metadata": {},
     "output_type": "execute_result"
    }
   ],
   "source": [
    "# посчитаем соотношение правильно предсказанных моделью товаров к общему числу транзакций\n",
    "\n",
    "22308 / 326162"
   ]
  },
  {
   "cell_type": "code",
   "execution_count": 156,
   "metadata": {},
   "outputs": [],
   "source": [
    "# посчитаем recall at 5\n",
    "\n",
    "recall_at_5 = 22308 / 533620 * 100"
   ]
  },
  {
   "cell_type": "code",
   "execution_count": 157,
   "metadata": {},
   "outputs": [
    {
     "data": {
      "text/plain": [
       "4.180502979648439"
      ]
     },
     "execution_count": 157,
     "metadata": {},
     "output_type": "execute_result"
    }
   ],
   "source": [
    "recall_at_5"
   ]
  },
  {
   "cell_type": "markdown",
   "metadata": {},
   "source": [
    "### считаем hit rate at k"
   ]
  },
  {
   "cell_type": "code",
   "execution_count": 112,
   "metadata": {},
   "outputs": [],
   "source": [
    "def hit_rate_at_k(recommended_list, bought_list, k=5):\n",
    "    \n",
    "    bought_list = np.array(bought_list)\n",
    "    recommended_list = np.array(recommended_list)\n",
    "    \n",
    "    recommended_list = recommended_list[:k]\n",
    "    \n",
    "    flags = np.isin(recommended_list, bought_list)\n",
    "    \n",
    "    hit_rate_at_k = (flags.sum() > 0) * 1\n",
    "    \n",
    "    return hit_rate_at_k"
   ]
  },
  {
   "cell_type": "code",
   "execution_count": 113,
   "metadata": {},
   "outputs": [
    {
     "data": {
      "text/plain": [
       "0.0664301788681698"
      ]
     },
     "execution_count": 113,
     "metadata": {},
     "output_type": "execute_result"
    }
   ],
   "source": [
    "test_df.apply(lambda row: hit_rate_at_k(row['recs'], row['targets']), axis=1).mean()"
   ]
  }
 ],
 "metadata": {
  "kernelspec": {
   "display_name": "Python 3",
   "language": "python",
   "name": "python3"
  },
  "language_info": {
   "codemirror_mode": {
    "name": "ipython",
    "version": 3
   },
   "file_extension": ".py",
   "mimetype": "text/x-python",
   "name": "python",
   "nbconvert_exporter": "python",
   "pygments_lexer": "ipython3",
   "version": "3.7.6"
  }
 },
 "nbformat": 4,
 "nbformat_minor": 4
}
